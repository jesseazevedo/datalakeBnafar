{
 "cells": [
  {
   "cell_type": "code",
   "execution_count": 9,
   "metadata": {},
   "outputs": [],
   "source": [
    "from pyspark.sql import SparkSession\n",
    "import sys\n",
    "sys.path.insert(0, '/data/Trabalho/datalake_bnafar/src/dbconfig')\n",
    "\n",
    "from db_config import DBConfig as db"
   ]
  },
  {
   "cell_type": "code",
   "execution_count": 10,
   "metadata": {},
   "outputs": [
    {
     "ename": "DatabaseError",
     "evalue": "DPI-1047: Cannot locate a 64-bit Oracle Client library: \"libclntsh.so: cannot open shared object file: No such file or directory\". See https://cx-oracle.readthedocs.io/en/latest/user_guide/installation.html for help",
     "output_type": "error",
     "traceback": [
      "\u001b[0;31m---------------------------------------------------------------------------\u001b[0m",
      "\u001b[0;31mDatabaseError\u001b[0m                             Traceback (most recent call last)",
      "\u001b[1;32m/data/Trabalho/datalake_bnafar/src/notebooks/explorando_estoque.ipynb Célula 2\u001b[0m line \u001b[0;36m2\n\u001b[1;32m      <a href='vscode-notebook-cell:/data/Trabalho/datalake_bnafar/src/notebooks/explorando_estoque.ipynb#W1sZmlsZQ%3D%3D?line=0'>1</a>\u001b[0m query \u001b[39m=\u001b[39m \u001b[39m\"\u001b[39m\u001b[39mselect * from DBHORUS.TB_PRODUTOS\u001b[39m\u001b[39m\"\u001b[39m\n\u001b[0;32m----> <a href='vscode-notebook-cell:/data/Trabalho/datalake_bnafar/src/notebooks/explorando_estoque.ipynb#W1sZmlsZQ%3D%3D?line=1'>2</a>\u001b[0m resp \u001b[39m=\u001b[39m DBConfig()\u001b[39m.\u001b[39;49mcursor_execute(query)\n\u001b[1;32m      <a href='vscode-notebook-cell:/data/Trabalho/datalake_bnafar/src/notebooks/explorando_estoque.ipynb#W1sZmlsZQ%3D%3D?line=2'>3</a>\u001b[0m \u001b[39mprint\u001b[39m(resp)\n",
      "File \u001b[0;32m/data/Trabalho/datalake_bnafar/src/dbconfig/db_config.py:27\u001b[0m, in \u001b[0;36mDBConfig.cursor_execute\u001b[0;34m(self, sql)\u001b[0m\n\u001b[1;32m     26\u001b[0m \u001b[39mdef\u001b[39;00m \u001b[39mcursor_execute\u001b[39m(\u001b[39mself\u001b[39m, sql):\n\u001b[0;32m---> 27\u001b[0m     connection \u001b[39m=\u001b[39m \u001b[39mself\u001b[39;49m\u001b[39m.\u001b[39;49mget_connection()\n\u001b[1;32m     28\u001b[0m     cursor \u001b[39m=\u001b[39m \u001b[39mself\u001b[39m\u001b[39m.\u001b[39mget_cursor(connection)\n\u001b[1;32m     29\u001b[0m     cursor\u001b[39m.\u001b[39mexecute(sql)\n",
      "File \u001b[0;32m/data/Trabalho/datalake_bnafar/src/dbconfig/db_config.py:16\u001b[0m, in \u001b[0;36mDBConfig.get_connection\u001b[0;34m(self)\u001b[0m\n\u001b[1;32m     15\u001b[0m \u001b[39mdef\u001b[39;00m \u001b[39mget_connection\u001b[39m(\u001b[39mself\u001b[39m):\n\u001b[0;32m---> 16\u001b[0m     connection \u001b[39m=\u001b[39m cx_Oracle\u001b[39m.\u001b[39;49mconnect(\u001b[39mself\u001b[39;49m\u001b[39m.\u001b[39;49musername, \u001b[39mself\u001b[39;49m\u001b[39m.\u001b[39;49mpassword, \u001b[39mf\u001b[39;49m\u001b[39m\"\u001b[39;49m\u001b[39m{\u001b[39;49;00m\u001b[39mself\u001b[39;49m\u001b[39m.\u001b[39;49mhostname\u001b[39m}\u001b[39;49;00m\u001b[39m:\u001b[39;49m\u001b[39m{\u001b[39;49;00m\u001b[39mself\u001b[39;49m\u001b[39m.\u001b[39;49mport\u001b[39m}\u001b[39;49;00m\u001b[39m/\u001b[39;49m\u001b[39m{\u001b[39;49;00m\u001b[39mself\u001b[39;49m\u001b[39m.\u001b[39;49mdatabase\u001b[39m}\u001b[39;49;00m\u001b[39m\"\u001b[39;49m)\n\u001b[1;32m     17\u001b[0m     \u001b[39mreturn\u001b[39;00m connection\n",
      "\u001b[0;31mDatabaseError\u001b[0m: DPI-1047: Cannot locate a 64-bit Oracle Client library: \"libclntsh.so: cannot open shared object file: No such file or directory\". See https://cx-oracle.readthedocs.io/en/latest/user_guide/installation.html for help"
     ]
    }
   ],
   "source": [
    "query = \"select * from DBHORUS.TB_PRODUTOS\"\n",
    "resp = db().cursor_execute(query)\n",
    "print(resp)"
   ]
  }
 ],
 "metadata": {
  "kernelspec": {
   "display_name": "venv",
   "language": "python",
   "name": "python3"
  },
  "language_info": {
   "codemirror_mode": {
    "name": "ipython",
    "version": 3
   },
   "file_extension": ".py",
   "mimetype": "text/x-python",
   "name": "python",
   "nbconvert_exporter": "python",
   "pygments_lexer": "ipython3",
   "version": "3.9.18"
  }
 },
 "nbformat": 4,
 "nbformat_minor": 2
}
