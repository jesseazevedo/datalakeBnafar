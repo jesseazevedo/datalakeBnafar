{
 "cells": [
  {
   "cell_type": "code",
   "execution_count": 1,
   "metadata": {},
   "outputs": [],
   "source": [
    "import os\n",
    "os.environ['PYSPARK_SUBMIT_ARGS'] = '--packages org.postgresql:postgresql:42.2.5 pyspark-shell'"
   ]
  },
  {
   "cell_type": "code",
   "execution_count": 2,
   "metadata": {},
   "outputs": [],
   "source": [
    "from pyspark.sql import SparkSession"
   ]
  },
  {
   "cell_type": "code",
   "execution_count": 3,
   "metadata": {},
   "outputs": [
    {
     "name": "stderr",
     "output_type": "stream",
     "text": [
      "23/12/12 11:36:33 WARN Utils: Your hostname, localhost.localdomain resolves to a loopback address: 127.0.0.1; using 192.168.3.15 instead (on interface enp5s0)\n",
      "23/12/12 11:36:33 WARN Utils: Set SPARK_LOCAL_IP if you need to bind to another address\n"
     ]
    },
    {
     "name": "stdout",
     "output_type": "stream",
     "text": [
      ":: loading settings :: url = jar:file:/data/projetos/datalakeBnafar/.venv/lib/python3.9/site-packages/pyspark/jars/ivy-2.5.1.jar!/org/apache/ivy/core/settings/ivysettings.xml\n"
     ]
    },
    {
     "name": "stderr",
     "output_type": "stream",
     "text": [
      "Ivy Default Cache set to: /home/jesse/.ivy2/cache\n",
      "The jars for the packages stored in: /home/jesse/.ivy2/jars\n",
      "org.postgresql#postgresql added as a dependency\n",
      ":: resolving dependencies :: org.apache.spark#spark-submit-parent-87a91da0-3713-4efc-bb04-4a83f5d71618;1.0\n",
      "\tconfs: [default]\n",
      "\tfound org.postgresql#postgresql;42.2.5 in central\n",
      ":: resolution report :: resolve 155ms :: artifacts dl 4ms\n",
      "\t:: modules in use:\n",
      "\torg.postgresql#postgresql;42.2.5 from central in [default]\n",
      "\t---------------------------------------------------------------------\n",
      "\t|                  |            modules            ||   artifacts   |\n",
      "\t|       conf       | number| search|dwnlded|evicted|| number|dwnlded|\n",
      "\t---------------------------------------------------------------------\n",
      "\t|      default     |   1   |   0   |   0   |   0   ||   1   |   0   |\n",
      "\t---------------------------------------------------------------------\n",
      ":: retrieving :: org.apache.spark#spark-submit-parent-87a91da0-3713-4efc-bb04-4a83f5d71618\n",
      "\tconfs: [default]\n",
      "\t0 artifacts copied, 1 already retrieved (0kB/6ms)\n",
      "Setting default log level to \"WARN\".\n",
      "To adjust logging level use sc.setLogLevel(newLevel). For SparkR, use setLogLevel(newLevel).\n"
     ]
    }
   ],
   "source": [
    "spark = SparkSession.builder \\\n",
    "    .appName(\"AppName\") \\\n",
    "    .config(\"spark.driver.memory\", \"64g\") \\\n",
    "    .getOrCreate()"
   ]
  },
  {
   "cell_type": "code",
   "execution_count": 4,
   "metadata": {},
   "outputs": [
    {
     "name": "stderr",
     "output_type": "stream",
     "text": [
      "[Stage 1:========================================>               (26 + 10) / 36]\r"
     ]
    },
    {
     "name": "stdout",
     "output_type": "stream",
     "text": [
      "root\n",
      " |-- CO_UF: string (nullable = true)\n",
      " |-- SG_UF: string (nullable = true)\n",
      " |-- CO_MUNICIPIO_IBGE: string (nullable = true)\n",
      " |-- NO_MUNICIPIO: string (nullable = true)\n",
      " |-- CO_CNES: string (nullable = true)\n",
      " |-- DT_POSICAO_ESTOQUE: timestamp (nullable = true)\n",
      " |-- CO_CATMAT: string (nullable = true)\n",
      " |-- DS_PRODUTO: string (nullable = true)\n",
      " |-- QT_ESTOQUE: string (nullable = true)\n",
      " |-- NU_LOTE: string (nullable = true)\n",
      " |-- DT_VALIDADE: string (nullable = true)\n",
      " |-- TP_PRODUTO: string (nullable = true)\n",
      " |-- SG_PROGRAMA_SAUDE: string (nullable = true)\n",
      " |-- DS_PROGRAMA_SAUDE: string (nullable = true)\n",
      " |-- SG_ORIGEM: string (nullable = true)\n",
      "\n"
     ]
    },
    {
     "name": "stderr",
     "output_type": "stream",
     "text": [
      "                                                                                \r"
     ]
    }
   ],
   "source": [
    "# Lendo o conjunto de dados de posição de estoque\n",
    "df = spark.read.csv(\"../dados/Posicao_Estoque_Brasil.csv\", sep=\";\", quote=\"'\", header=True, inferSchema=True)\n",
    "df.printSchema()"
   ]
  },
  {
   "cell_type": "code",
   "execution_count": 5,
   "metadata": {},
   "outputs": [
    {
     "data": {
      "text/plain": [
       "[Row(CO_UF='11', SG_UF='RO', CO_MUNICIPIO_IBGE='110001', NO_MUNICIPIO=\"'ALTA FLORESTA D''OESTE'\", CO_CNES='2497433', DT_POSICAO_ESTOQUE=datetime.datetime(2023, 12, 9, 0, 0), CO_CATMAT='BR0230570', DS_PRODUTO='SACO PLÁSTICO LIXO, CAPACIDADE 30, COR BRANCA, LARGURA 59, ALTURA 62, CARACTERÍSTICAS ADICIONAIS LEITOSO SUPER RESISTENTE, APLICAÇÃO COLETA DE RESÍDUOS DE SERVIÇOS DE SAÚDE', QT_ESTOQUE='1', NU_LOTE='01022020', DT_VALIDADE='2025-01-30 00:00:00.000', TP_PRODUTO='O', SG_PROGRAMA_SAUDE='HOSP', DS_PROGRAMA_SAUDE='HOSPITALAR', SG_ORIGEM='HORUS'),\n",
       " Row(CO_UF='11', SG_UF='RO', CO_MUNICIPIO_IBGE='110001', NO_MUNICIPIO=\"'ALTA FLORESTA D''OESTE'\", CO_CNES='2497433', DT_POSICAO_ESTOQUE=datetime.datetime(2023, 12, 9, 0, 0), CO_CATMAT='BR0233632U0062', DS_PRODUTO='ÓLEO MINERAL (PETROLATO) SOLUÇÃO ORAL 100 ML', QT_ESTOQUE='3', NU_LOTE='0035', DT_VALIDADE='2024-08-30 00:00:00.000', TP_PRODUTO='B', SG_PROGRAMA_SAUDE='AF', DS_PROGRAMA_SAUDE='ASSISTÊNCIA FARMACÊUTICA', SG_ORIGEM='HORUS'),\n",
       " Row(CO_UF='11', SG_UF='RO', CO_MUNICIPIO_IBGE='110001', NO_MUNICIPIO=\"'ALTA FLORESTA D''OESTE'\", CO_CNES='2497433', DT_POSICAO_ESTOQUE=datetime.datetime(2023, 12, 9, 0, 0), CO_CATMAT='BR0233632U0062', DS_PRODUTO='ÓLEO MINERAL (PETROLATO) SOLUÇÃO ORAL 100 ML', QT_ESTOQUE='10', NU_LOTE='15383', DT_VALIDADE='2021-05-30 00:00:00.000', TP_PRODUTO='B', SG_PROGRAMA_SAUDE='AF', DS_PROGRAMA_SAUDE='ASSISTÊNCIA FARMACÊUTICA', SG_ORIGEM='HORUS'),\n",
       " Row(CO_UF='11', SG_UF='RO', CO_MUNICIPIO_IBGE='110001', NO_MUNICIPIO=\"'ALTA FLORESTA D''OESTE'\", CO_CNES='2497433', DT_POSICAO_ESTOQUE=datetime.datetime(2023, 12, 9, 0, 0), CO_CATMAT='BR0266788-2', DS_PRODUTO='NISTATINA 25.000 UI/G CREME VAGINAL  60 G', QT_ESTOQUE='0', NU_LOTE='5223', DT_VALIDADE='2025-01-06 00:00:00.000', TP_PRODUTO='B', SG_PROGRAMA_SAUDE='ANTMICRO', DS_PROGRAMA_SAUDE='ANTIMICROBIANOS', SG_ORIGEM='HORUS'),\n",
       " Row(CO_UF='11', SG_UF='RO', CO_MUNICIPIO_IBGE='110001', NO_MUNICIPIO=\"'ALTA FLORESTA D''OESTE'\", CO_CNES='2497433', DT_POSICAO_ESTOQUE=datetime.datetime(2023, 12, 9, 0, 0), CO_CATMAT='BR0266788-2', DS_PRODUTO='NISTATINA 25.000 UI/G CREME VAGINAL  60 G', QT_ESTOQUE='1', NU_LOTE='5223', DT_VALIDADE='2025-01-06 00:00:00.000', TP_PRODUTO='B', SG_PROGRAMA_SAUDE='ANTMICRO', DS_PROGRAMA_SAUDE='ANTIMICROBIANOS', SG_ORIGEM='HORUS')]"
      ]
     },
     "execution_count": 5,
     "metadata": {},
     "output_type": "execute_result"
    }
   ],
   "source": [
    "df.head(5)"
   ]
  },
  {
   "cell_type": "code",
   "execution_count": 22,
   "metadata": {},
   "outputs": [
    {
     "name": "stderr",
     "output_type": "stream",
     "text": [
      "                                                                                \r"
     ]
    },
    {
     "name": "stdout",
     "output_type": "stream",
     "text": [
      "Quantidade de municípios distintos:  4325\n"
     ]
    },
    {
     "name": "stderr",
     "output_type": "stream",
     "text": [
      "                                                                                \r"
     ]
    },
    {
     "name": "stdout",
     "output_type": "stream",
     "text": [
      "Quantidade de CNES distintos:  17503\n"
     ]
    },
    {
     "name": "stderr",
     "output_type": "stream",
     "text": [
      "[Stage 59:========================>                              (16 + 20) / 36]\r"
     ]
    },
    {
     "name": "stdout",
     "output_type": "stream",
     "text": [
      "Quantidade de produtos distintos:  14608\n",
      "Média de estabelecimentos por município:  4.0469364161849715\n"
     ]
    },
    {
     "name": "stderr",
     "output_type": "stream",
     "text": [
      "                                                                                \r"
     ]
    }
   ],
   "source": [
    "# Entendendo algumas informações sobre o conjunto de dados\n",
    "mun_distinct = df.select(\"co_municipio_ibge\").distinct().count()\n",
    "print(\"Quantidade de municípios distintos: \", mun_distinct)\n",
    "\n",
    "cnes_distinct = df.select(\"co_cnes\").distinct().count()\n",
    "print(\"Quantidade de CNES distintos: \", cnes_distinct)\n",
    "\n",
    "produto_distinct = df.select(\"co_catmat\").distinct().count()\n",
    "print(\"Quantidade de produtos distintos: \", produto_distinct)\n",
    "\n",
    "avg_estabelecimento = cnes_distinct / mun_distinct\n",
    "print(\"Média de estabelecimentos por município: \", avg_estabelecimento)"
   ]
  },
  {
   "cell_type": "code",
   "execution_count": 6,
   "metadata": {},
   "outputs": [
    {
     "name": "stderr",
     "output_type": "stream",
     "text": [
      "[Stage 5:====================================================>    (37 + 3) / 40]\r"
     ]
    },
    {
     "name": "stdout",
     "output_type": "stream",
     "text": [
      "+-------+---------------------+\n",
      "|co_cnes|count_distinct_catmat|\n",
      "+-------+---------------------+\n",
      "|9478000|                 1355|\n",
      "|2331748|                  627|\n",
      "|9273816|                  276|\n",
      "|7252307|                  124|\n",
      "|9374787|                  313|\n",
      "|2341484|                  107|\n",
      "|4008952|                   22|\n",
      "|2366991|                   42|\n",
      "|2415089|                   71|\n",
      "|5196337|                  435|\n",
      "|9459634|                  322|\n",
      "|7164246|                  109|\n",
      "|7298579|                  152|\n",
      "|8014949|                  173|\n",
      "|3009564|                  664|\n",
      "|2679485|                  319|\n",
      "|7373759|                  139|\n",
      "|6595057|                  512|\n",
      "|2007940|                  191|\n",
      "|9306471|                  304|\n",
      "+-------+---------------------+\n",
      "only showing top 20 rows\n",
      "\n"
     ]
    },
    {
     "name": "stderr",
     "output_type": "stream",
     "text": [
      "                                                                                \r"
     ]
    }
   ],
   "source": [
    "from pyspark.sql import functions as F\n",
    "\n",
    "# Agrupa o DataFrame por co_cnes e conta o número de co_catmat distintos em cada grupo\n",
    "df_cnes = df.groupBy(\"co_cnes\").agg(F.countDistinct(\"co_catmat\").alias(\"count_distinct_catmat\"))\n",
    "\n",
    "df_cnes.show()"
   ]
  },
  {
   "cell_type": "code",
   "execution_count": 7,
   "metadata": {},
   "outputs": [
    {
     "name": "stderr",
     "output_type": "stream",
     "text": [
      "[Stage 9:=============================================>           (29 + 7) / 36]\r"
     ]
    },
    {
     "name": "stdout",
     "output_type": "stream",
     "text": [
      "+-------+-----------------+---------------------+\n",
      "|summary|          co_cnes|count_distinct_catmat|\n",
      "+-------+-----------------+---------------------+\n",
      "|  count|            17503|                17503|\n",
      "|   mean|4276358.136612958|    170.9850882705822|\n",
      "| stddev|2483497.035656828|   203.52417405439857|\n",
      "|    min|          0000035|                    1|\n",
      "|    max|             null|                 4981|\n",
      "+-------+-----------------+---------------------+\n",
      "\n"
     ]
    },
    {
     "name": "stderr",
     "output_type": "stream",
     "text": [
      "                                                                                \r"
     ]
    }
   ],
   "source": [
    "df_cnes.describe().show()"
   ]
  },
  {
   "cell_type": "code",
   "execution_count": 8,
   "metadata": {},
   "outputs": [
    {
     "name": "stderr",
     "output_type": "stream",
     "text": [
      "[Stage 21:=>                                                      (1 + 36) / 40]\r"
     ]
    },
    {
     "name": "stdout",
     "output_type": "stream",
     "text": [
      "Primeiro quartil:  52.0\n",
      "Segundo quartil (mediana):  117.0\n",
      "Terceiro quartil:  206.0\n",
      "Intervalo interquartil:  154.0\n"
     ]
    },
    {
     "name": "stderr",
     "output_type": "stream",
     "text": [
      "                                                                                \r"
     ]
    }
   ],
   "source": [
    "# Verificando quantos itens distintos cada estabelecimento possui\n",
    "quartis = df_cnes.approxQuantile(\"count_distinct_catmat\", [0.25, 0.5, 0.75], 0)\n",
    "\n",
    "print(\"Primeiro quartil: \", quartis[0])\n",
    "print(\"Segundo quartil (mediana): \", quartis[1])\n",
    "print(\"Terceiro quartil: \", quartis[2])\n",
    "print(\"Intervalo interquartil: \", quartis[2] - quartis[0])"
   ]
  },
  {
   "cell_type": "code",
   "execution_count": 23,
   "metadata": {},
   "outputs": [
    {
     "name": "stderr",
     "output_type": "stream",
     "text": [
      "                                                                                \r"
     ]
    },
    {
     "data": {
      "image/png": "[encoded data removed]",
      "text/plain": [
       "<Figure size 640x480 with 1 Axes>"
      ]
     },
     "metadata": {},
     "output_type": "display_data"
    }
   ],
   "source": [
    "import matplotlib.pyplot as plt\n",
    "\n",
    "# Obtenha a coluna de dados como uma lista\n",
    "dados = df_cnes.select(\"count_distinct_catmat\").rdd.flatMap(lambda x: x).collect()\n",
    "\n",
    "plt.boxplot(dados)\n",
    "plt.title('Boxplot de count_distinct_catmat')\n",
    "plt.ylabel('Valores')\n",
    "plt.show()"
   ]
  },
  {
   "cell_type": "code",
   "execution_count": null,
   "metadata": {},
   "outputs": [],
   "source": [
    "import requests\n",
    "import json\n",
    "import os\n",
    "\n",
    "# Criando a pasta se ela não existir\n",
    "os.makedirs('../dados', exist_ok=True)\n",
    "\n",
    "# Lista para armazenar os retornos da API\n",
    "data_list = []\n",
    "\n",
    "# Coletando todas as linhas do DataFrame como uma lista\n",
    "rows = df_cnes.collect()\n",
    "\n",
    "# Iterando sobre a lista de linhas\n",
    "for row in rows:\n",
    "    # Construindo a URL da API\n",
    "    url = f'https://apidadosabertos.saude.gov.br/cnes/estabelecimentos/{row[\"co_cnes\"]}'\n",
    "\n",
    "    # Fazendo a requisição para a API\n",
    "    response = requests.get(url)\n",
    "\n",
    "    # Verificando se a requisição foi bem sucedida\n",
    "    if response.status_code == 200:\n",
    "        # Adicionando o retorno da API na lista\n",
    "        data_list.append(response.json())\n",
    "    else:\n",
    "        print('Erro na requisição', response.status_code)\n",
    "\n",
    "# Escrevendo a lista em um arquivo JSON\n",
    "with open('../dados/estabelecimentos.json', 'w') as f:\n",
    "    json.dump(data_list, f)\n",
    "\n",
    "print(data_list)"
   ]
  },
  {
   "cell_type": "code",
   "execution_count": 10,
   "metadata": {},
   "outputs": [
    {
     "name": "stderr",
     "output_type": "stream",
     "text": [
      "                                                                                \r"
     ]
    }
   ],
   "source": [
    "# Configurações da conexão com o banco de dados\n",
    "url = \"jdbc:postgresql://localhost:5433/dbbnafar\"\n",
    "properties = {\n",
    "    \"user\": \"postgres\",\n",
    "    \"password\": \"postgres\",\n",
    "    \"driver\": \"org.postgresql.Driver\"\n",
    "}\n",
    "\n",
    "# Escrevendo o DataFrame no banco de dados\n",
    "df = df.fillna({'CO_CNES': 0})\n",
    "df.write.jdbc(url=url, table=\"tb_estoque\", mode=\"overwrite\", properties=properties)"
   ]
  },
  {
   "cell_type": "code",
   "execution_count": 11,
   "metadata": {},
   "outputs": [
    {
     "name": "stderr",
     "output_type": "stream",
     "text": [
      "23/12/12 11:39:51 WARN SparkStringUtils: Truncated the string representation of a plan since it was too large. This behavior can be adjusted by setting 'spark.sql.debug.maxToStringFields'.\n",
      "                                                                                \r"
     ]
    }
   ],
   "source": [
    "# Escrevendo o DataFrame no banco de dados\n",
    "df_estabelecimentos = spark.read.json('../dados/estabelecimentos.json')\n",
    "df_estabelecimentos.write.jdbc(url=url, table=\"tb_estabelecimentos\", mode=\"overwrite\", properties=properties)"
   ]
  },
  {
   "cell_type": "code",
   "execution_count": 12,
   "metadata": {},
   "outputs": [
    {
     "name": "stdout",
     "output_type": "stream",
     "text": [
      "root\n",
      " |-- bairro_estabelecimento: string (nullable = true)\n",
      " |-- codigo_atividade_ensino_unidade: string (nullable = true)\n",
      " |-- codigo_cep_estabelecimento: string (nullable = true)\n",
      " |-- codigo_cnes: long (nullable = true)\n",
      " |-- codigo_esfera_administrativa_unidade: string (nullable = true)\n",
      " |-- codigo_estabelecimento_saude: string (nullable = true)\n",
      " |-- codigo_identificador_turno_atendimento: string (nullable = true)\n",
      " |-- codigo_motivo_desabilitacao_estabelecimento: string (nullable = true)\n",
      " |-- codigo_municipio: long (nullable = true)\n",
      " |-- codigo_natureza_organizacao_unidade: string (nullable = true)\n",
      " |-- codigo_nivel_hierarquia_unidade: string (nullable = true)\n",
      " |-- codigo_tipo_unidade: long (nullable = true)\n",
      " |-- codigo_uf: long (nullable = true)\n",
      " |-- descricao_esfera_administrativa: string (nullable = true)\n",
      " |-- descricao_natureza_juridica_estabelecimento: string (nullable = true)\n",
      " |-- descricao_nivel_hierarquia: string (nullable = true)\n",
      " |-- descricao_turno_atendimento: string (nullable = true)\n",
      " |-- endereco_email_estabelecimento: string (nullable = true)\n",
      " |-- endereco_estabelecimento: string (nullable = true)\n",
      " |-- estabelecimento_faz_atendimento_ambulatorial_sus: string (nullable = true)\n",
      " |-- estabelecimento_possui_atendimento_ambulatorial: long (nullable = true)\n",
      " |-- estabelecimento_possui_atendimento_hospitalar: long (nullable = true)\n",
      " |-- estabelecimento_possui_centro_cirurgico: long (nullable = true)\n",
      " |-- estabelecimento_possui_centro_neonatal: long (nullable = true)\n",
      " |-- estabelecimento_possui_centro_obstetrico: long (nullable = true)\n",
      " |-- estabelecimento_possui_servico_apoio: long (nullable = true)\n",
      " |-- latitude_estabelecimento_decimo_grau: double (nullable = true)\n",
      " |-- longitude_estabelecimento_decimo_grau: double (nullable = true)\n",
      " |-- natureza_organizacao_entidade: string (nullable = true)\n",
      " |-- nome_fantasia: string (nullable = true)\n",
      " |-- nome_razao_social: string (nullable = true)\n",
      " |-- numero_cnpj: string (nullable = true)\n",
      " |-- numero_cnpj_entidade: string (nullable = true)\n",
      " |-- numero_estabelecimento: string (nullable = true)\n",
      " |-- numero_telefone_estabelecimento: string (nullable = true)\n",
      " |-- tipo_gestao: string (nullable = true)\n",
      "\n"
     ]
    }
   ],
   "source": [
    "df_estabelecimentos.printSchema()"
   ]
  },
  {
   "cell_type": "code",
   "execution_count": 15,
   "metadata": {},
   "outputs": [
    {
     "name": "stdout",
     "output_type": "stream",
     "text": [
      "root\n",
      " |-- CO_UF: string (nullable = true)\n",
      " |-- SG_UF: string (nullable = true)\n",
      " |-- CO_MUNICIPIO_IBGE: string (nullable = true)\n",
      " |-- NO_MUNICIPIO: string (nullable = true)\n",
      " |-- CO_CNES: string (nullable = false)\n",
      " |-- DT_POSICAO_ESTOQUE: timestamp (nullable = true)\n",
      " |-- CO_CATMAT: string (nullable = true)\n",
      " |-- DS_PRODUTO: string (nullable = true)\n",
      " |-- QT_ESTOQUE: string (nullable = true)\n",
      " |-- NU_LOTE: string (nullable = true)\n",
      " |-- DT_VALIDADE: string (nullable = true)\n",
      " |-- TP_PRODUTO: string (nullable = true)\n",
      " |-- SG_PROGRAMA_SAUDE: string (nullable = true)\n",
      " |-- DS_PROGRAMA_SAUDE: string (nullable = true)\n",
      " |-- SG_ORIGEM: string (nullable = true)\n",
      " |-- no_bairro: string (nullable = true)\n",
      " |-- co_cep: string (nullable = true)\n",
      " |-- co_cnes_estabelecimento: long (nullable = true)\n",
      " |-- codigo_esfera_administrativa_unidade: string (nullable = true)\n",
      " |-- ds_email: string (nullable = true)\n",
      " |-- ds_endereco: string (nullable = true)\n",
      " |-- latitude: double (nullable = true)\n",
      " |-- longitude: double (nullable = true)\n",
      " |-- no_estabelecimento: string (nullable = true)\n",
      " |-- no_razao_social: string (nullable = true)\n",
      " |-- nu_cnpj: string (nullable = true)\n",
      " |-- numero_cnpj_entidade: string (nullable = true)\n",
      " |-- nu_estabelecimento: string (nullable = true)\n",
      " |-- nu_telefone: string (nullable = true)\n",
      "\n"
     ]
    }
   ],
   "source": [
    "# Definindo as colunas para remover\n",
    "colunas_para_remover = [\n",
    "\"codigo_atividade_ensino_unidade\",\n",
    "\"codigo_cnes\"\n",
    "\"codigo_esfera_administrativa_unidade\",\n",
    "\"codigo_estabelecimento_saude\",\n",
    "\"codigo_identificador_turno_atendimento\",\n",
    "\"codigo_motivo_desabilitacao_estabelecimento\",\n",
    "\"codigo_municipio\",\n",
    "\"codigo_natureza_organizacao_unidade\",\n",
    "\"codigo_nivel_hierarquia_unidade\",\n",
    "\"codigo_tipo_unidade\",\n",
    "\"codigo_uf\",\n",
    "\"descricao_esfera_administrativa\",\n",
    "\"descricao_natureza_juridica_estabelecimento\",\n",
    "\"descricao_nivel_hierarquia\",\n",
    "\"descricao_turno_atendimento\",\n",
    "\"estabelecimento_faz_atendimento_ambulatorial_sus\",\n",
    "\"estabelecimento_possui_atendimento_ambulatorial\",\n",
    "\"estabelecimento_possui_atendimento_hospitalar\",\n",
    "\"estabelecimento_possui_centro_cirurgico\",\n",
    "\"estabelecimento_possui_centro_neonatal\",\n",
    "\"estabelecimento_possui_centro_obstetrico\",\n",
    "\"estabelecimento_possui_servico_apoio\",\n",
    "\"natureza_organizacao_entidade\",\n",
    "\"tipo_gestao\"]\n",
    "\n",
    "# Removendo as colunas\n",
    "df_estabelecimentos = df_estabelecimentos.drop(*colunas_para_remover)\n",
    "\n",
    "# Renomeando colunas\n",
    "df_estabelecimentos = df_estabelecimentos.withColumnRenamed(\"bairro_estabelecimento\", \"no_bairro\")\n",
    "df_estabelecimentos = df_estabelecimentos.withColumnRenamed(\"codigo_cep_estabelecimento\", \"co_cep\")\n",
    "df_estabelecimentos = df_estabelecimentos.withColumnRenamed(\"codigo_cnes\", \"co_cnes_estabelecimento\")\n",
    "df_estabelecimentos = df_estabelecimentos.withColumnRenamed(\"endereco_email_estabelecimento\", \"ds_email\")\n",
    "df_estabelecimentos = df_estabelecimentos.withColumnRenamed(\"endereco_estabelecimento\", \"ds_endereco\")\n",
    "df_estabelecimentos = df_estabelecimentos.withColumnRenamed(\"latitude_estabelecimento_decimo_grau\", \"latitude\")\n",
    "df_estabelecimentos = df_estabelecimentos.withColumnRenamed(\"longitude_estabelecimento_decimo_grau\", \"longitude\")\n",
    "df_estabelecimentos = df_estabelecimentos.withColumnRenamed(\"nome_fantasia\", \"no_estabelecimento\")\n",
    "df_estabelecimentos = df_estabelecimentos.withColumnRenamed(\"nome_razao_social\", \"no_razao_social\")\n",
    "df_estabelecimentos = df_estabelecimentos.withColumnRenamed(\"numero_cnpj\", \"nu_cnpj\")\n",
    "df_estabelecimentos = df_estabelecimentos.withColumnRenamed(\"numero_estabelecimento\", \"nu_estabelecimento\")\n",
    "df_estabelecimentos = df_estabelecimentos.withColumnRenamed(\"numero_telefone_estabelecimento\", \"nu_telefone\")\n",
    "\n",
    "# Fazendo o join\n",
    "df_joined = df.join(df_estabelecimentos, df.CO_CNES == df_estabelecimentos.co_cnes_estabelecimento, 'left')\n",
    "\n",
    "df_joined.printSchema()"
   ]
  },
  {
   "cell_type": "code",
   "execution_count": 19,
   "metadata": {},
   "outputs": [],
   "source": [
    "from pyspark.sql.types import IntegerType\n",
    "\n",
    "df_joined = df_joined.withColumn(\"QT_ESTOQUE\", df_joined[\"QT_ESTOQUE\"].cast(IntegerType()))"
   ]
  },
  {
   "cell_type": "code",
   "execution_count": 20,
   "metadata": {},
   "outputs": [
    {
     "name": "stdout",
     "output_type": "stream",
     "text": [
      "root\n",
      " |-- CO_UF: string (nullable = true)\n",
      " |-- SG_UF: string (nullable = true)\n",
      " |-- CO_MUNICIPIO_IBGE: string (nullable = true)\n",
      " |-- NO_MUNICIPIO: string (nullable = true)\n",
      " |-- CO_CNES: string (nullable = false)\n",
      " |-- DT_POSICAO_ESTOQUE: timestamp (nullable = true)\n",
      " |-- CO_CATMAT: string (nullable = true)\n",
      " |-- DS_PRODUTO: string (nullable = true)\n",
      " |-- QT_ESTOQUE: integer (nullable = true)\n",
      " |-- NU_LOTE: string (nullable = true)\n",
      " |-- DT_VALIDADE: string (nullable = true)\n",
      " |-- TP_PRODUTO: string (nullable = true)\n",
      " |-- SG_PROGRAMA_SAUDE: string (nullable = true)\n",
      " |-- DS_PROGRAMA_SAUDE: string (nullable = true)\n",
      " |-- SG_ORIGEM: string (nullable = true)\n",
      " |-- no_bairro: string (nullable = true)\n",
      " |-- co_cep: string (nullable = true)\n",
      " |-- co_cnes_estabelecimento: long (nullable = true)\n",
      " |-- codigo_esfera_administrativa_unidade: string (nullable = true)\n",
      " |-- ds_email: string (nullable = true)\n",
      " |-- ds_endereco: string (nullable = true)\n",
      " |-- latitude: double (nullable = true)\n",
      " |-- longitude: double (nullable = true)\n",
      " |-- no_estabelecimento: string (nullable = true)\n",
      " |-- no_razao_social: string (nullable = true)\n",
      " |-- nu_cnpj: string (nullable = true)\n",
      " |-- numero_cnpj_entidade: string (nullable = true)\n",
      " |-- nu_estabelecimento: string (nullable = true)\n",
      " |-- nu_telefone: string (nullable = true)\n",
      "\n"
     ]
    }
   ],
   "source": [
    "df_joined.printSchema()"
   ]
  },
  {
   "cell_type": "code",
   "execution_count": 21,
   "metadata": {},
   "outputs": [
    {
     "name": "stderr",
     "output_type": "stream",
     "text": [
      "                                                                                \r"
     ]
    }
   ],
   "source": [
    "df_joined.write.jdbc(url=url, table=\"tb_estoque_estabelecimentos\", mode=\"overwrite\", properties=properties)"
   ]
  }
 ],
 "metadata": {
  "kernelspec": {
   "display_name": ".venv",
   "language": "python",
   "name": "python3"
  },
  "language_info": {
   "codemirror_mode": {
    "name": "ipython",
    "version": 3
   },
   "file_extension": ".py",
   "mimetype": "text/x-python",
   "name": "python",
   "nbconvert_exporter": "python",
   "pygments_lexer": "ipython3",
   "version": "3.9.18"
  }
 },
 "nbformat": 4,
 "nbformat_minor": 2
}
